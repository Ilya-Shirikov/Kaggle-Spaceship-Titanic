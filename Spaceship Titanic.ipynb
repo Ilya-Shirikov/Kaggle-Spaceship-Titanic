{
 "cells": [
  {
   "cell_type": "markdown",
   "id": "5bf5ad24",
   "metadata": {},
   "source": [
    "<h2> Космический корабль \"Титаник\" <a class=\"tocSkip\"> </h2>\n",
    "    \n",
    "Космический корабль \"Титаник\" был межзвездным пассажирским лайнером, запущенным месяц назад. С почти 13 000 пассажиров на борту, судно отлетело в свое первое плавание, перевозя эмигрантов из нашей Солнечной системы на три новые обитаемые экзопланеты, вращающиеся вокруг близлежащих звезд.\n",
    "\n",
    "Во время обхода Альфа Центавра по пути к своему первому месту назначения - жаркому 55 Cancri E - неосвзойденный космический корабль Титаник сразился с пространствено-временной аномалией, скрытой в пылевом облаке. К сожалению, он встретил ту же судьбу, что и его тезка 1000 лет назад. Хотя корабль остался нетронутым, почти половина пассажиров была перевезена в другое измерение!\n",
    "    \n",
    "Чтобы помочь спасательным экипажам и вернуть потерянных пассажиров, нужно в этом соревновании предсказать, был ли пассажир перевезен в альтернативное измерение во время столкновения космического корабля «Титаник» с аномалией пространства-времени. Чтобы сделать эти прогнозы, нам предоставляется набор личных записей, извлеченных из поврежденной компьютерной системы корабля.\n",
    "\n",
    "    \n",
    "<h2> Цель работы  <a class=\"tocSkip\"> </h2>\n",
    "    \n",
    "Предсказать, какие пассажиры перевозятся в альтернативное измерение и предсказать стоимость Transported для пассажиров.\n",
    "\n",
    "<h2> Описания файлов и полей данных  <a class=\"tocSkip\"> </h2>\n",
    "    \n",
    "- train.csv - Личные записи примерно для двух третей (~8700) пассажиров, которые будут использоваться в качестве тренировочных данных.\n",
    "    \n",
    "    - PassengerId - Уникальный ид для каждого пассажира. Каждый Id принимает форму gggg_pp, где gggg указывает на группу, с которой путешествует пассажир, и pp - это их номер в группе. Люди в группе часто являются членами семьи, но не всегда.\n",
    "    - HomePlanet - Планета, с которой пассажир уехал, как правило, их планета постоянного проживания.\n",
    "    - CryoSleep - Указывает, выбран ли пассажир криосон на время рейса. Пассажиры в криосне ограничены в своих каютах.\n",
    "    - Cabin - Номер салона, в котором остановился пассажир. Принимает форму палубы/номер/боку, где сторона может быть либо P для порта, либо S для старого борта.\n",
    "    - Destination - Планета, на которую будет доставлен пассажир.\n",
    "    - Age - Возраст пассажира.\n",
    "    - VIP - оплатил ли пассажир специальную VIP-услугу во время рейса.\n",
    "    - RoomService, FoodCourt, ShoppingMall, Spa, VRDeck - Сумма, которую пассажиру выставили за каждый из многочисленных роскошных удобств космического корабля \"Титаник\".\n",
    "    - Name - Имя и фамилия пассажира.\n",
    "    - Transported - Был ли пассажир перевезен в другое измерение. Это цель, столбец, который вы пытаетесь предсказать.\n",
    "    \n",
    "    \n",
    "- test.csv - Личные записи для оставшейся трети (~4300) пассажиров, которые будут использоваться в качестве тестовых данных. Ваша задача - предсказать стоимость Transported для пассажиров в этом наборе.\n",
    "    \n",
    "    \n",
    "- sample_submission.csv - Файл отправки в правильном формате.\n",
    "    \n",
    "    - PassengerId- Ид. каждого пассажира в тестовом наборе.\n",
    "    - Transported- Цель. Для каждого пассажира предскажите либо True, либо False."
   ]
  },
  {
   "cell_type": "code",
   "execution_count": 1,
   "id": "de0223cb",
   "metadata": {},
   "outputs": [],
   "source": [
    "!pip install catboost -q"
   ]
  },
  {
   "cell_type": "markdown",
   "id": "b2681bf7",
   "metadata": {},
   "source": [
    "## Изучение данных \n",
    "### Загрузка данных "
   ]
  },
  {
   "cell_type": "code",
   "execution_count": 3,
   "id": "8bf4ed8a",
   "metadata": {},
   "outputs": [
    {
     "ename": "ModuleNotFoundError",
     "evalue": "No module named 'catboost'",
     "output_type": "error",
     "traceback": [
      "\u001b[0;31m---------------------------------------------------------------------------\u001b[0m",
      "\u001b[0;31mModuleNotFoundError\u001b[0m                       Traceback (most recent call last)",
      "\u001b[0;32m/var/folders/f0/fwwwr9gx4fx7gkgj8tc1ygs00000gn/T/ipykernel_37434/4248897383.py\u001b[0m in \u001b[0;36m<module>\u001b[0;34m\u001b[0m\n\u001b[1;32m     15\u001b[0m \u001b[0;34m\u001b[0m\u001b[0m\n\u001b[1;32m     16\u001b[0m \u001b[0;31m# from xgboost import XGBClassifier\u001b[0m\u001b[0;34m\u001b[0m\u001b[0;34m\u001b[0m\u001b[0m\n\u001b[0;32m---> 17\u001b[0;31m \u001b[0;32mfrom\u001b[0m \u001b[0mcatboost\u001b[0m \u001b[0;32mimport\u001b[0m \u001b[0mCatBoostClassifier\u001b[0m\u001b[0;34m\u001b[0m\u001b[0;34m\u001b[0m\u001b[0m\n\u001b[0m\u001b[1;32m     18\u001b[0m \u001b[0;32mfrom\u001b[0m \u001b[0msklearn\u001b[0m\u001b[0;34m.\u001b[0m\u001b[0mensemble\u001b[0m \u001b[0;32mimport\u001b[0m \u001b[0mGradientBoostingClassifier\u001b[0m\u001b[0;34m,\u001b[0m \u001b[0mVotingClassifier\u001b[0m\u001b[0;34m\u001b[0m\u001b[0;34m\u001b[0m\u001b[0m\n\u001b[1;32m     19\u001b[0m \u001b[0;34m\u001b[0m\u001b[0m\n",
      "\u001b[0;31mModuleNotFoundError\u001b[0m: No module named 'catboost'"
     ]
    }
   ],
   "source": [
    "# Импоритруем библиотеки\n",
    "\n",
    "import warnings\n",
    "warnings.filterwarnings(\"ignore\")\n",
    "\n",
    "import pandas as pd\n",
    "import numpy as np\n",
    "import seaborn as sns\n",
    "import matplotlib.pyplot as plt\n",
    "\n",
    "\n",
    "from sklearn.impute import KNNImputer\n",
    "from sklearn.preprocessing import LabelEncoder, MinMaxScaler, StandardScaler\n",
    "from sklearn.model_selection import GridSearchCV, train_test_split, cross_val_score\n",
    "\n",
    "# from xgboost import XGBClassifier\n",
    "from catboost import CatBoostClassifier\n",
    "from sklearn.ensemble import GradientBoostingClassifier, VotingClassifier\n",
    "\n",
    "from sklearn.metrics import accuracy_score\n"
   ]
  },
  {
   "cell_type": "code",
   "execution_count": null,
   "id": "37011b1b",
   "metadata": {},
   "outputs": [],
   "source": [
    "# Прочитаем файл и запишем в переменную df\n",
    "\n",
    "df_sample_submission = pd.read_csv('/Users/ilyashirikov/Downloads/Kaggle/spaceship-titanic/sample_submission.csv')\n",
    "df_test = pd.read_csv('/Users/ilyashirikov/Downloads/Kaggle/spaceship-titanic/test.csv')\n",
    "df_train = pd.read_csv('/Users/ilyashirikov/Downloads/Kaggle/spaceship-titanic/train.csv')\n"
   ]
  },
  {
   "cell_type": "code",
   "execution_count": null,
   "id": "4b916f42",
   "metadata": {},
   "outputs": [],
   "source": [
    "# Создадим функцию info_func() для вывода всех необходимых методов показа информации df\n",
    "\n",
    "def info_func(df):\n",
    "    display(df.head(10), df.info(), df.describe(), df.isna().sum())\n",
    "\n",
    "info_func(df_sample_submission)"
   ]
  },
  {
   "cell_type": "markdown",
   "id": "9174756f",
   "metadata": {},
   "source": [
    "Отдельно расмотрю т.к. в df_sample_submission с даными все впорядке, их тут не много 4277 в записях нет пропусков, в этой таблице указаны ID всех пасажиров кто остался на карабле \"Титаник\". С этими данными мы будем сверяться после пердсказания нашей модели. Для удобства False нужно перевести в бинарный вид."
   ]
  },
  {
   "cell_type": "code",
   "execution_count": null,
   "id": "5c86c3e5",
   "metadata": {},
   "outputs": [],
   "source": [
    "info_func(df_test)"
   ]
  },
  {
   "cell_type": "code",
   "execution_count": null,
   "id": "ab4c06bd",
   "metadata": {},
   "outputs": [],
   "source": [
    "info_func(df_train)"
   ]
  },
  {
   "cell_type": "markdown",
   "id": "da534c03",
   "metadata": {},
   "source": [
    "В таблице df_test и df_train уже есть что обсудить, df_test имеет так же 4277 строк данных как и в df_sample_submission и в df_train у нас 8693 строк данных, в каждом из признаков есть пропуски не более 3%, разберемся отдельно по признакам:\n",
    "\n",
    "- PassengerId в обоих таблицах пропусков нет, но было бы удобнее перевести тип данных в INT и разделить этот признак на два признака, где первый признак номер группы, а второй указывал бы на номер пасажира в группе.\n",
    "- HomePlanet в обоих таблицах есть пропуски, нужно посмотреть уникальные значения и убедиться что Земля и Европа это не одно и тоже. Предположительно пропуски могли взяться из за отсуцтвия постоянного места проживания т.е. пасажир был на этой планете что то типо 'на пересадке'.\n",
    "- CryoSleep в обоих таблицах есть пропуски, данный признак записан по факту в тип Str, но можно указать его в бинарном виде, с пропусками в данном признаке большие вопросы, тут явно спит пасажир или нет, может пропуски появились из за технических проблем, вот что с ними делать большой вопрос.\n",
    "- Cabin в обоих таблицах есть пропуски, тут у нас номер салона, в котором остановился пассажир, по данным в основном это семейные пары, возможно было бы верно заполнить пропуски ближайшими соседями или посмотреть признак Name. Этот признак нужно будет кодировать.\n",
    "- Destination в обоих таблицах есть пропуски и тут по аналогии с Cabin можно взять группу и взять их среднее по месту прибытия и заполнить этими значениями пропуски, вполне возможно что группы состовляли на основе мест прибытия для удобства расположения вы выгрузки таких групп. Этот признак нужно будет кодировать.\n",
    "- Age этот признак так же с пропусками и визуально через функцию discribe, выбрасы или анамальные значения не выявлены, максимальный возраст 79 лет, минимальный указан ноль, вполне возможно что на карабле новорожденные дети и новые технологии 2912 года способны на рейсы с такими посажырами, средний возраст составляет 29 лет, 75% пасажиров в возрасте до 38 лет.\n",
    "- VIP в обоих таблицах есть пропуски, мне кажется логично что если в этом признаке у пасажира нет значения True значит что VIP не подключен, предолгаю заменить значения пропусков на False.\n",
    "- RoomService, FoodCourt, ShoppingMall, Spa, VRDeck так же имеют пропуски, в аналогии с VIP, считаю что если нет суммы уплаченой за сервис, означает что все пропуски равны 0, т.к. пустые значения могут указывать на то что пасажир не пользовался сервисами.\n",
    "- Name для нас не имеет сильной значимости кроме как на основе него заполнять пропуски в других признаках, при обучении модели этот признак будет неинформативен, смысла заполнять или удалять его пропуски нет."
   ]
  },
  {
   "cell_type": "markdown",
   "id": "f2c76f6b",
   "metadata": {},
   "source": [
    "## Разведочный анализ данных"
   ]
  },
  {
   "cell_type": "code",
   "execution_count": null,
   "id": "b68d4b8d",
   "metadata": {},
   "outputs": [],
   "source": [
    "plt.pie(df_train.HomePlanet.value_counts(),labels = ['Earth','Europa','Mars'])\n",
    "plt.title(\"HomePlanet\")\n",
    "plt.show()"
   ]
  },
  {
   "cell_type": "code",
   "execution_count": null,
   "id": "3738d0e6",
   "metadata": {},
   "outputs": [],
   "source": []
  }
 ],
 "metadata": {
  "kernelspec": {
   "display_name": "Python 3 (ipykernel)",
   "language": "python",
   "name": "python3"
  },
  "language_info": {
   "codemirror_mode": {
    "name": "ipython",
    "version": 3
   },
   "file_extension": ".py",
   "mimetype": "text/x-python",
   "name": "python",
   "nbconvert_exporter": "python",
   "pygments_lexer": "ipython3",
   "version": "3.9.13"
  },
  "toc": {
   "base_numbering": 1,
   "nav_menu": {},
   "number_sections": true,
   "sideBar": true,
   "skip_h1_title": false,
   "title_cell": "Table of Contents",
   "title_sidebar": "Contents",
   "toc_cell": false,
   "toc_position": {},
   "toc_section_display": true,
   "toc_window_display": false
  }
 },
 "nbformat": 4,
 "nbformat_minor": 5
}
